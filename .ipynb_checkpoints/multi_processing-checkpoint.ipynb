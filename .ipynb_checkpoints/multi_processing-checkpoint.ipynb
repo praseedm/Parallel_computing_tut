{
 "cells": [
  {
   "cell_type": "markdown",
   "metadata": {},
   "source": [
    " Link :  https://www.machinelearningplus.com/python/parallel-processing-python/"
   ]
  },
  {
   "cell_type": "markdown",
   "metadata": {},
   "source": [
    "## to get the row wise common items in list_a and list_b."
   ]
  },
  {
   "cell_type": "code",
   "execution_count": 1,
   "metadata": {},
   "outputs": [],
   "source": [
    "from multiprocessing import Pool\n",
    "import time\n"
   ]
  },
  {
   "cell_type": "code",
   "execution_count": 2,
   "metadata": {},
   "outputs": [],
   "source": [
    "list_a = [[1, 2, 3], [5, 6, 7, 8], [10, 11, 12], [20, 21]]\n",
    "list_b = [[2, 3, 4, 5], [6, 9, 10], [11, 12, 13, 14], [21, 24, 25]]"
   ]
  },
  {
   "cell_type": "code",
   "execution_count": 3,
   "metadata": {},
   "outputs": [],
   "source": [
    "def common(l1,l2):\n",
    "    s1 = set(l1)\n",
    "    res = list(s1.intersection(l2))\n",
    "    return res"
   ]
  },
  {
   "cell_type": "code",
   "execution_count": 4,
   "metadata": {},
   "outputs": [],
   "source": [
    "def normal():\n",
    "    re = [ common(i,j) for (i,j) in zip(list_a, list_b) ]\n",
    "    print(\"Result : \",re)"
   ]
  },
  {
   "cell_type": "code",
   "execution_count": 10,
   "metadata": {},
   "outputs": [],
   "source": [
    "def parallel():\n",
    "    with Pool() as p:\n",
    "        ot = [p.apply(common, args=(i,j)) for i,j in zip(list_a, list_b) ]  \n",
    "    print(\"Result : \",ot)"
   ]
  },
  {
   "cell_type": "code",
   "execution_count": 14,
   "metadata": {},
   "outputs": [],
   "source": [
    "def par_star():\n",
    "    with Pool() as p:\n",
    "        ots = p.starmap(common,zip(list_a,list_b))\n",
    "    print(\"Result : \",ots)"
   ]
  },
  {
   "cell_type": "code",
   "execution_count": 5,
   "metadata": {},
   "outputs": [],
   "source": [
    "def call_m(method):\n",
    "    start = time.time()\n",
    "    method()\n",
    "    print(\"Time Taken : \",time.time() - start)"
   ]
  },
  {
   "cell_type": "code",
   "execution_count": 16,
   "metadata": {},
   "outputs": [
    {
     "name": "stdout",
     "output_type": "stream",
     "text": [
      "Result :  [[2, 3], [6], [11, 12], [21]]\n",
      "Time Taken :  0.0004949569702148438\n"
     ]
    }
   ],
   "source": [
    "call_m(normal)"
   ]
  },
  {
   "cell_type": "code",
   "execution_count": 17,
   "metadata": {},
   "outputs": [
    {
     "name": "stdout",
     "output_type": "stream",
     "text": [
      "Result :  [[2, 3], [6], [11, 12], [21]]\n",
      "Time Taken :  0.14409923553466797\n"
     ]
    }
   ],
   "source": [
    "call_m(parallel)"
   ]
  },
  {
   "cell_type": "code",
   "execution_count": 18,
   "metadata": {},
   "outputs": [
    {
     "name": "stdout",
     "output_type": "stream",
     "text": [
      "Result :  [[2, 3], [6], [11, 12], [21]]\n",
      "Time Taken :  0.1419820785522461\n"
     ]
    }
   ],
   "source": [
    "call_m(par_star)"
   ]
  },
  {
   "cell_type": "code",
   "execution_count": null,
   "metadata": {},
   "outputs": [],
   "source": []
  }
 ],
 "metadata": {
  "kernelspec": {
   "display_name": "Python 3",
   "language": "python",
   "name": "python3"
  },
  "language_info": {
   "codemirror_mode": {
    "name": "ipython",
    "version": 3
   },
   "file_extension": ".py",
   "mimetype": "text/x-python",
   "name": "python",
   "nbconvert_exporter": "python",
   "pygments_lexer": "ipython3",
   "version": "3.7.3"
  }
 },
 "nbformat": 4,
 "nbformat_minor": 2
}
